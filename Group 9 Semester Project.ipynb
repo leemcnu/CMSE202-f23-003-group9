{
 "cells": [
  {
   "cell_type": "code",
   "execution_count": 1,
   "id": "5fab2ce8",
   "metadata": {},
   "outputs": [],
   "source": [
    "import pandas as pd\n",
    "import numpy as np"
   ]
  },
  {
   "cell_type": "code",
   "execution_count": 55,
   "id": "ce0da4ad",
   "metadata": {},
   "outputs": [],
   "source": [
    "team_data = pd.read_csv('project_dataset.csv', na_values = '--')\n",
    "team_data['T'].fillna(0, inplace=True)\n",
    "team_data['OT'].fillna(0, inplace=True)\n",
    "team_data['Cup'] = np.zeros(len(team_data))\n",
    "team_data.iloc[684,24] = 1\n",
    "team_data.iloc[174,24] = 1\n",
    "team_data.iloc[614,24] = 1\n",
    "team_data.iloc[609,24] = 1\n",
    "team_data.iloc[593,24] = 1\n",
    "team_data.iloc[687,24] = 1\n",
    "team_data.iloc[550,24] = 1\n",
    "team_data.iloc[545,24] = 1\n",
    "team_data.iloc[153,24] = 1\n",
    "team_data.iloc[311,24] = 1\n",
    "team_data.iloc[163,24] = 1\n",
    "team_data.iloc[328,24] = 1\n",
    "team_data.iloc[56,24] = 1\n",
    "team_data.iloc[150,24] = 1\n",
    "team_data.iloc[552,24] = 1\n",
    "team_data.iloc[255,24] = 1\n",
    "team_data.iloc[3,24] = 1\n",
    "team_data.iloc[125,24] = 1\n",
    "team_data.iloc[628,24] = 1\n",
    "team_data.iloc[411,24] = 1\n",
    "team_data.iloc[244,24] = 1\n",
    "team_data.iloc[179,24] = 1\n",
    "team_data.iloc[404,24] = 1\n",
    "team_data.iloc[227,24] = 1\n"
   ]
  },
  {
   "cell_type": "code",
   "execution_count": 56,
   "id": "73640249",
   "metadata": {},
   "outputs": [
    {
     "data": {
      "text/html": [
       "<div>\n",
       "<style scoped>\n",
       "    .dataframe tbody tr th:only-of-type {\n",
       "        vertical-align: middle;\n",
       "    }\n",
       "\n",
       "    .dataframe tbody tr th {\n",
       "        vertical-align: top;\n",
       "    }\n",
       "\n",
       "    .dataframe thead th {\n",
       "        text-align: right;\n",
       "    }\n",
       "</style>\n",
       "<table border=\"1\" class=\"dataframe\">\n",
       "  <thead>\n",
       "    <tr style=\"text-align: right;\">\n",
       "      <th></th>\n",
       "      <th>Team</th>\n",
       "      <th>Season Start</th>\n",
       "      <th>Season End</th>\n",
       "      <th>GP</th>\n",
       "      <th>W</th>\n",
       "      <th>L</th>\n",
       "      <th>T</th>\n",
       "      <th>OT</th>\n",
       "      <th>P</th>\n",
       "      <th>P%</th>\n",
       "      <th>...</th>\n",
       "      <th>GF/GP</th>\n",
       "      <th>GA/GP</th>\n",
       "      <th>PP%</th>\n",
       "      <th>PK%</th>\n",
       "      <th>Net PP%</th>\n",
       "      <th>Net PK%</th>\n",
       "      <th>Shots/GP</th>\n",
       "      <th>SA/GP</th>\n",
       "      <th>FOW%</th>\n",
       "      <th>Cup</th>\n",
       "    </tr>\n",
       "  </thead>\n",
       "  <tbody>\n",
       "  </tbody>\n",
       "</table>\n",
       "<p>0 rows × 25 columns</p>\n",
       "</div>"
      ],
      "text/plain": [
       "Empty DataFrame\n",
       "Columns: [Team, Season Start, Season End, GP, W, L, T, OT, P, P%, RW, ROW, S/O Win, GF, GA, GF/GP, GA/GP, PP%, PK%, Net PP%, Net PK%, Shots/GP, SA/GP, FOW%, Cup]\n",
       "Index: []\n",
       "\n",
       "[0 rows x 25 columns]"
      ]
     },
     "execution_count": 56,
     "metadata": {},
     "output_type": "execute_result"
    }
   ],
   "source": [
    "team_data[(team_data['Team'] == 'Dallas Stars') & (team_data['Season End'] == 1998)]"
   ]
  },
  {
   "cell_type": "code",
   "execution_count": null,
   "id": "29ef974b",
   "metadata": {},
   "outputs": [],
   "source": []
  }
 ],
 "metadata": {
  "kernelspec": {
   "display_name": "Python 3.8",
   "language": "python",
   "name": "python3"
  },
  "language_info": {
   "codemirror_mode": {
    "name": "ipython",
    "version": 3
   },
   "file_extension": ".py",
   "mimetype": "text/x-python",
   "name": "python",
   "nbconvert_exporter": "python",
   "pygments_lexer": "ipython3",
   "version": "3.8.8"
  }
 },
 "nbformat": 4,
 "nbformat_minor": 5
}
