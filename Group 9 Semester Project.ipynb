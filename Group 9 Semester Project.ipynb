{
 "cells": [
  {
   "cell_type": "code",
   "execution_count": null,
   "id": "ac73dfb0",
   "metadata": {},
   "outputs": [],
   "source": [
    "# Imports\n",
    "import matplotlib.pyplot as plt\n",
    "import pandas as pd\n",
    "import statsmodels.api as sm\n",
    "import numpy as np\n",
    "import seaborn as sns"
   ]
  },
  {
   "cell_type": "code",
   "execution_count": null,
   "id": "c57d550e",
   "metadata": {},
   "outputs": [],
   "source": [
    "# Import the data \n",
    "df = pd.read_csv('Stanley Cup Data - project_dataset.csv')\n",
    "\n",
    "# Sorting the data by year \n",
    "df.sort_values(by = \"Season Start\")\n",
    "\n",
    "\n",
    "# Replacing the stanely cup column with a one if that team one the championship\n",
    "# List of stanely cup winners: https://www.nhl.com/news/nhl-stanley-cup-champions-winners-complete-list-287705398\n",
    "\n",
    "# Masking the dataset for each season\n",
    "Season_1998 = df[df['Season Start'] == 1998]\n",
    "Season_1999 = df[df['Season Start'] == 1999]\n",
    "Season_2000 = df[df['Season Start'] == 2000]\n",
    "Season_2001 = df[df['Season Start'] == 2001]\n",
    "Season_2002 = df[df['Season Start'] == 2002]\n",
    "Season_2003 = df[df['Season Start'] == 2003]\n",
    "# Note the 2004 season was canceled\n",
    "Season_2005 = df[df['Season Start'] == 2005]\n",
    "Season_2006 = df[df['Season Start'] == 2006]\n",
    "Season_2007 = df[df['Season Start'] == 2007]\n",
    "Season_2008 = df[df['Season Start'] == 2008]\n",
    "Season_2009 = df[df['Season Start'] == 2009]\n",
    "Season_2010 = df[df['Season Start'] == 2010]\n",
    "Season_2011 = df[df['Season Start'] == 2011]\n",
    "Season_2012 = df[df['Season Start'] == 2012]\n",
    "Season_2013 = df[df['Season Start'] == 2013]\n",
    "Season_2014 = df[df['Season Start'] == 2014]\n",
    "Season_2015 = df[df['Season Start'] == 2015]\n",
    "Season_2016 = df[df['Season Start'] == 2016]\n",
    "Season_2017 = df[df['Season Start'] == 2017]\n",
    "Season_2018 = df[df['Season Start'] == 2018]\n",
    "Season_2019 = df[df['Season Start'] == 2019]\n",
    "Season_2020 = df[df['Season Start'] == 2020]\n",
    "Season_2021 = df[df['Season Start'] == 2021]\n",
    "Season_2022 = df[df['Season Start'] == 2022]\n",
    "\n",
    "# Creating a list of the masked seasons\n",
    "Seasons_list  = [Season_1998, Season_1999, Season_2000, Season_2001, Season_2002, Season_2003, Season_2005, \n",
    "                 Season_2006, Season_2007, Season_2008, Season_2010, Season_2011, Season_2012,\n",
    "                 Season_2013, Season_2014, Season_2015, Season_2016, Season_2017, Season_2018, \n",
    "                 Season_2019, Season_2020, Season_2021, Season_2022]"
   ]
  },
  {
   "cell_type": "code",
   "execution_count": null,
   "id": "512bc57e",
   "metadata": {},
   "outputs": [],
   "source": [
    "# Creating a Dataframe of winners\n",
    "winners_df = df[df['Stanley Cup'] == 1]"
   ]
  },
  {
   "cell_type": "code",
   "execution_count": null,
   "id": "6e385d8e",
   "metadata": {},
   "outputs": [],
   "source": [
    "# Visually plotting Goals vs Wins\n",
    "plt.figure(figsize = (15, 30))\n",
    "\n",
    "for i in range(0, len(Seasons_list)):\n",
    "    \n",
    "    plt.subplot(6,4,i+1)\n",
    "    plt.scatter(Seasons_list[i]['P'], Seasons_list[i]['W'], c = Seasons_list[i]['Stanley Cup'], cmap = 'jet')\n",
    "\n",
    "    plt.xlabel(\"Goals\")\n",
    "    plt.ylabel(\"Wins\")\n",
    "\n",
    "plt.tight_layout()"
   ]
  },
  {
   "cell_type": "code",
   "execution_count": null,
   "id": "76d122af",
   "metadata": {},
   "outputs": [],
   "source": [
    "# Modeling the data using Ordinary Least Squares\n",
    "independent_variables = df.drop(columns = ['Team','T','OT','RW', 'ROW','S/O Win', 'Stanley Cup', 'Season Start', 'Season End', 'GP','P', 'PP%', 'PK%', 'GF/GP', 'GA/GP', 'GA', 'GF','SA/GP', 'L'] )\n",
    "X = sm.add_constant(independent_variables)\n",
    "\n",
    "model = sm.OLS(df['Stanley Cup'], independent_variables)\n",
    "results = model.fit()\n",
    "results.summary()"
   ]
  },
  {
   "cell_type": "markdown",
   "id": "0da977ac",
   "metadata": {},
   "source": [
    "The R-Squared value and the adjusted R-Squared value are very low for different combinations of the dataset. Either we need to gather more data to analyze or we need to change the method that we analyze the data with."
   ]
  },
  {
   "cell_type": "markdown",
   "id": "b07a8044",
   "metadata": {},
   "source": [
    "## Sources\n",
    "\n",
    "https://datatofish.com/read_excel/\n",
    "\n",
    "https://www.nhl.com/stats/teams?aggregate=0&reportType=season&seasonFrom=19171918&seasonTo=20232024&gameType=2&filter=gamesPlayed,gte,1&sort=faceoffWinPct&page=0&pageSize=50\n",
    "\n",
    "https://pandas.pydata.org/docs/reference/api/pandas.DataFrame.sort_values.html\n",
    "\n",
    "https://www.nhl.com/news/nhl-stanley-cup-champions-winners-complete-list-287705398\n",
    "\n",
    "https://www.geeksforgeeks.org/adding-new-column-to-existing-dataframe-in-pandas/\n",
    "\n",
    "https://seaborn.pydata.org/examples/scatterplot_categorical.html\n",
    "\n",
    "https://seaborn.pydata.org/examples/scatter_bubbles.html\n",
    "\n",
    "https://python-charts.com/seaborn/themes/#:~:text=The%20seaborn%20library%20provides%20five,the%20set_style%20or%20set_style%20function.\n",
    "\n",
    "https://datatofish.com/csv-to-excel-python/"
   ]
  },
  {
   "cell_type": "code",
   "execution_count": null,
   "id": "3c0ac3c9",
   "metadata": {},
   "outputs": [],
   "source": []
  }
 ],
 "metadata": {
  "kernelspec": {
   "display_name": "Python 3.8",
   "language": "python",
   "name": "python3"
  },
  "language_info": {
   "codemirror_mode": {
    "name": "ipython",
    "version": 3
   },
   "file_extension": ".py",
   "mimetype": "text/x-python",
   "name": "python",
   "nbconvert_exporter": "python",
   "pygments_lexer": "ipython3",
   "version": "3.8.8"
  }
 },
 "nbformat": 4,
 "nbformat_minor": 5
}
