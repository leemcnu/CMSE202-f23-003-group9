{
 "cells": [
  {
   "cell_type": "code",
   "execution_count": 1,
   "id": "5fab2ce8",
   "metadata": {},
   "outputs": [],
   "source": [
    "import pandas as pd\n",
    "import numpy as np"
   ]
  },
  {
   "cell_type": "code",
   "execution_count": 24,
   "id": "ce0da4ad",
   "metadata": {},
   "outputs": [
    {
     "data": {
      "text/plain": [
       "Team            Vegas Golden Knights\n",
       "Season Start                    2022\n",
       "Season End                      2023\n",
       "GP                                82\n",
       "W                                 51\n",
       "L                                 22\n",
       "T                                0.0\n",
       "OT                               9.0\n",
       "P                                111\n",
       "P%                             0.677\n",
       "RW                                38\n",
       "ROW                               46\n",
       "S/O Win                            5\n",
       "GF                               267\n",
       "GA                               225\n",
       "GF/GP                           3.26\n",
       "GA/GP                           2.74\n",
       "PP%                             20.3\n",
       "PK%                             77.4\n",
       "Net PP%                         18.4\n",
       "Net PK%                         82.6\n",
       "Shots/GP                        31.5\n",
       "SA/GP                           30.9\n",
       "FOW%                            52.3\n",
       "Cup                              1.0\n",
       "Name: 684, dtype: object"
      ]
     },
     "execution_count": 24,
     "metadata": {},
     "output_type": "execute_result"
    }
   ],
   "source": [
    "team_data = pd.read_csv('project_dataset.csv', na_values = '--')\n",
    "team_data['T'].fillna(0, inplace=True)\n",
    "team_data['OT'].fillna(0, inplace=True)\n",
    "team_data['Cup'] = np.zeros(len(team_data))\n",
    "team_data.iloc[684,24] = 1\n",
    "team_data.iloc[174,24] = 1\n",
    "team_data.iloc[614,24] = 1\n",
    "team_data.iloc[609,24] = 1\n",
    "team_data.iloc[593,24] = 1\n",
    "team_data.iloc[687,24] = 1\n",
    "team_data.iloc[550,24] = 1\n",
    "team_data.iloc[545,24] = 1\n",
    "team_data.iloc[153,24] = 1\n",
    "team_data.iloc[311,24] = 1\n",
    "team_data.iloc[163,24] = 1\n",
    "team_data.iloc[328,24] = 1\n",
    "team_data.iloc[56,24] = 1\n",
    "team_data.iloc[150,24] = 1\n",
    "team_data.iloc[552,24] = 1\n",
    "team_data.iloc[255,24] = 1\n",
    "team_data.iloc[3,24] = 1\n",
    "team_data.iloc[125,24] = 1\n",
    "team_data.iloc[628,24] = 1\n",
    "team_data.iloc[411,24] = 1\n",
    "team_data.iloc[244,24] = 1\n",
    "team_data.iloc[179,24] = 1\n"
   ]
  },
  {
   "cell_type": "code",
   "execution_count": 51,
   "id": "73640249",
   "metadata": {},
   "outputs": [
    {
     "data": {
      "text/html": [
       "<div>\n",
       "<style scoped>\n",
       "    .dataframe tbody tr th:only-of-type {\n",
       "        vertical-align: middle;\n",
       "    }\n",
       "\n",
       "    .dataframe tbody tr th {\n",
       "        vertical-align: top;\n",
       "    }\n",
       "\n",
       "    .dataframe thead th {\n",
       "        text-align: right;\n",
       "    }\n",
       "</style>\n",
       "<table border=\"1\" class=\"dataframe\">\n",
       "  <thead>\n",
       "    <tr style=\"text-align: right;\">\n",
       "      <th></th>\n",
       "      <th>Team</th>\n",
       "      <th>Season Start</th>\n",
       "      <th>Season End</th>\n",
       "      <th>GP</th>\n",
       "      <th>W</th>\n",
       "      <th>L</th>\n",
       "      <th>T</th>\n",
       "      <th>OT</th>\n",
       "      <th>P</th>\n",
       "      <th>P%</th>\n",
       "      <th>...</th>\n",
       "      <th>GF/GP</th>\n",
       "      <th>GA/GP</th>\n",
       "      <th>PP%</th>\n",
       "      <th>PK%</th>\n",
       "      <th>Net PP%</th>\n",
       "      <th>Net PK%</th>\n",
       "      <th>Shots/GP</th>\n",
       "      <th>SA/GP</th>\n",
       "      <th>FOW%</th>\n",
       "      <th>Cup</th>\n",
       "    </tr>\n",
       "  </thead>\n",
       "  <tbody>\n",
       "    <tr>\n",
       "      <th>179</th>\n",
       "      <td>Colorado Avalanche</td>\n",
       "      <td>2000</td>\n",
       "      <td>2001</td>\n",
       "      <td>82</td>\n",
       "      <td>52</td>\n",
       "      <td>16</td>\n",
       "      <td>10.0</td>\n",
       "      <td>4.0</td>\n",
       "      <td>118</td>\n",
       "      <td>0.72</td>\n",
       "      <td>...</td>\n",
       "      <td>3.29</td>\n",
       "      <td>2.34</td>\n",
       "      <td>22.0</td>\n",
       "      <td>82.8</td>\n",
       "      <td>19.0</td>\n",
       "      <td>86.0</td>\n",
       "      <td>29.2</td>\n",
       "      <td>25.1</td>\n",
       "      <td>51.3</td>\n",
       "      <td>0.0</td>\n",
       "    </tr>\n",
       "  </tbody>\n",
       "</table>\n",
       "<p>1 rows × 25 columns</p>\n",
       "</div>"
      ],
      "text/plain": [
       "                   Team  Season Start  Season End  GP   W   L     T   OT    P  \\\n",
       "179  Colorado Avalanche          2000        2001  82  52  16  10.0  4.0  118   \n",
       "\n",
       "       P%  ...  GF/GP  GA/GP   PP%   PK%  Net PP%  Net PK%  Shots/GP  SA/GP  \\\n",
       "179  0.72  ...   3.29   2.34  22.0  82.8     19.0     86.0      29.2   25.1   \n",
       "\n",
       "     FOW%  Cup  \n",
       "179  51.3  0.0  \n",
       "\n",
       "[1 rows x 25 columns]"
      ]
     },
     "execution_count": 51,
     "metadata": {},
     "output_type": "execute_result"
    }
   ],
   "source": [
    "team_data[(team_data['Team'] == 'Colorado Avalanche') & (team_data['Season End'] == 2001)]"
   ]
  },
  {
   "cell_type": "code",
   "execution_count": null,
   "id": "b6091df8",
   "metadata": {},
   "outputs": [],
   "source": []
  }
 ],
 "metadata": {
  "kernelspec": {
   "display_name": "Python 3.8",
   "language": "python",
   "name": "python3"
  },
  "language_info": {
   "codemirror_mode": {
    "name": "ipython",
    "version": 3
   },
   "file_extension": ".py",
   "mimetype": "text/x-python",
   "name": "python",
   "nbconvert_exporter": "python",
   "pygments_lexer": "ipython3",
   "version": "3.8.8"
  }
 },
 "nbformat": 4,
 "nbformat_minor": 5
}
