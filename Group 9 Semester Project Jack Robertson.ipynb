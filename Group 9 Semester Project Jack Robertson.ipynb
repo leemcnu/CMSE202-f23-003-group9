{
 "cells": [
  {
   "cell_type": "code",
   "execution_count": 3,
   "id": "dbecfe8e",
   "metadata": {
    "scrolled": true
   },
   "outputs": [
    {
     "name": "stdout",
     "output_type": "stream",
     "text": [
      "/home/robe1095/CMSE202/projects/CMSE202-f23-003-group9\r\n"
     ]
    }
   ],
   "source": [
    "!pwd"
   ]
  },
  {
   "cell_type": "code",
   "execution_count": 4,
   "id": "4520c068",
   "metadata": {},
   "outputs": [
    {
     "name": "stdout",
     "output_type": "stream",
     "text": [
      "* \u001b[32mJack\u001b[m\r\n",
      "  main\u001b[m\r\n"
     ]
    }
   ],
   "source": [
    "!git branch"
   ]
  },
  {
   "cell_type": "code",
   "execution_count": 1,
   "id": "d76d981d",
   "metadata": {},
   "outputs": [],
   "source": [
    "import pandas as pd\n",
    "import matplotlib.pyplot as plt\n",
    "from sklearn import svm\n",
    "import numpy as np\n",
    "from sklearn.model_selection import train_test_split, GridSearchCV\n",
    "from sklearn.svm import SVC\n",
    "from sklearn.metrics import accuracy_score, classification_report, confusion_matrix\n",
    "import seaborn as sns"
   ]
  },
  {
   "cell_type": "code",
   "execution_count": 2,
   "id": "aeff2315",
   "metadata": {},
   "outputs": [
    {
     "data": {
      "text/html": [
       "<div>\n",
       "<style scoped>\n",
       "    .dataframe tbody tr th:only-of-type {\n",
       "        vertical-align: middle;\n",
       "    }\n",
       "\n",
       "    .dataframe tbody tr th {\n",
       "        vertical-align: top;\n",
       "    }\n",
       "\n",
       "    .dataframe thead th {\n",
       "        text-align: right;\n",
       "    }\n",
       "</style>\n",
       "<table border=\"1\" class=\"dataframe\">\n",
       "  <thead>\n",
       "    <tr style=\"text-align: right;\">\n",
       "      <th></th>\n",
       "      <th>GP</th>\n",
       "      <th>W</th>\n",
       "      <th>L</th>\n",
       "      <th>P</th>\n",
       "      <th>P%</th>\n",
       "      <th>RW</th>\n",
       "      <th>ROW</th>\n",
       "      <th>GF</th>\n",
       "      <th>GA</th>\n",
       "      <th>GF/GP</th>\n",
       "      <th>GA/GP</th>\n",
       "      <th>PP%</th>\n",
       "      <th>PK%</th>\n",
       "      <th>Net PP%</th>\n",
       "      <th>Net PK%</th>\n",
       "      <th>Shots/GP</th>\n",
       "      <th>SA/GP</th>\n",
       "      <th>FOW%</th>\n",
       "      <th>Stanley Cup</th>\n",
       "      <th>Presidents Cup</th>\n",
       "    </tr>\n",
       "  </thead>\n",
       "  <tbody>\n",
       "    <tr>\n",
       "      <th>0</th>\n",
       "      <td>82</td>\n",
       "      <td>23</td>\n",
       "      <td>47</td>\n",
       "      <td>58</td>\n",
       "      <td>0.354</td>\n",
       "      <td>13</td>\n",
       "      <td>20</td>\n",
       "      <td>206</td>\n",
       "      <td>335</td>\n",
       "      <td>2.51</td>\n",
       "      <td>4.09</td>\n",
       "      <td>15.7</td>\n",
       "      <td>72.1</td>\n",
       "      <td>12.7</td>\n",
       "      <td>72.5</td>\n",
       "      <td>28.4</td>\n",
       "      <td>39.1</td>\n",
       "      <td>46.7</td>\n",
       "      <td>0</td>\n",
       "      <td>0</td>\n",
       "    </tr>\n",
       "    <tr>\n",
       "      <th>1</th>\n",
       "      <td>82</td>\n",
       "      <td>28</td>\n",
       "      <td>40</td>\n",
       "      <td>70</td>\n",
       "      <td>0.427</td>\n",
       "      <td>20</td>\n",
       "      <td>25</td>\n",
       "      <td>225</td>\n",
       "      <td>295</td>\n",
       "      <td>2.74</td>\n",
       "      <td>3.60</td>\n",
       "      <td>18.9</td>\n",
       "      <td>74.6</td>\n",
       "      <td>16.4</td>\n",
       "      <td>76.2</td>\n",
       "      <td>25.8</td>\n",
       "      <td>35.0</td>\n",
       "      <td>45.9</td>\n",
       "      <td>0</td>\n",
       "      <td>0</td>\n",
       "    </tr>\n",
       "    <tr>\n",
       "      <th>2</th>\n",
       "      <td>82</td>\n",
       "      <td>65</td>\n",
       "      <td>12</td>\n",
       "      <td>135</td>\n",
       "      <td>0.823</td>\n",
       "      <td>54</td>\n",
       "      <td>61</td>\n",
       "      <td>301</td>\n",
       "      <td>174</td>\n",
       "      <td>3.67</td>\n",
       "      <td>2.12</td>\n",
       "      <td>22.2</td>\n",
       "      <td>87.3</td>\n",
       "      <td>19.4</td>\n",
       "      <td>90.1</td>\n",
       "      <td>33.0</td>\n",
       "      <td>29.8</td>\n",
       "      <td>54.5</td>\n",
       "      <td>0</td>\n",
       "      <td>1</td>\n",
       "    </tr>\n",
       "    <tr>\n",
       "      <th>3</th>\n",
       "      <td>82</td>\n",
       "      <td>42</td>\n",
       "      <td>33</td>\n",
       "      <td>91</td>\n",
       "      <td>0.555</td>\n",
       "      <td>30</td>\n",
       "      <td>39</td>\n",
       "      <td>293</td>\n",
       "      <td>297</td>\n",
       "      <td>3.57</td>\n",
       "      <td>3.62</td>\n",
       "      <td>23.4</td>\n",
       "      <td>73.0</td>\n",
       "      <td>20.8</td>\n",
       "      <td>77.0</td>\n",
       "      <td>32.5</td>\n",
       "      <td>33.0</td>\n",
       "      <td>45.1</td>\n",
       "      <td>0</td>\n",
       "      <td>0</td>\n",
       "    </tr>\n",
       "    <tr>\n",
       "      <th>4</th>\n",
       "      <td>82</td>\n",
       "      <td>38</td>\n",
       "      <td>27</td>\n",
       "      <td>93</td>\n",
       "      <td>0.567</td>\n",
       "      <td>31</td>\n",
       "      <td>36</td>\n",
       "      <td>258</td>\n",
       "      <td>247</td>\n",
       "      <td>3.15</td>\n",
       "      <td>3.01</td>\n",
       "      <td>19.8</td>\n",
       "      <td>82.6</td>\n",
       "      <td>17.5</td>\n",
       "      <td>85.6</td>\n",
       "      <td>36.0</td>\n",
       "      <td>27.3</td>\n",
       "      <td>50.4</td>\n",
       "      <td>0</td>\n",
       "      <td>0</td>\n",
       "    </tr>\n",
       "    <tr>\n",
       "      <th>...</th>\n",
       "      <td>...</td>\n",
       "      <td>...</td>\n",
       "      <td>...</td>\n",
       "      <td>...</td>\n",
       "      <td>...</td>\n",
       "      <td>...</td>\n",
       "      <td>...</td>\n",
       "      <td>...</td>\n",
       "      <td>...</td>\n",
       "      <td>...</td>\n",
       "      <td>...</td>\n",
       "      <td>...</td>\n",
       "      <td>...</td>\n",
       "      <td>...</td>\n",
       "      <td>...</td>\n",
       "      <td>...</td>\n",
       "      <td>...</td>\n",
       "      <td>...</td>\n",
       "      <td>...</td>\n",
       "      <td>...</td>\n",
       "    </tr>\n",
       "    <tr>\n",
       "      <th>718</th>\n",
       "      <td>82</td>\n",
       "      <td>37</td>\n",
       "      <td>32</td>\n",
       "      <td>87</td>\n",
       "      <td>0.530</td>\n",
       "      <td>36</td>\n",
       "      <td>37</td>\n",
       "      <td>237</td>\n",
       "      <td>209</td>\n",
       "      <td>2.89</td>\n",
       "      <td>2.55</td>\n",
       "      <td>20.3</td>\n",
       "      <td>87.9</td>\n",
       "      <td>18.9</td>\n",
       "      <td>89.7</td>\n",
       "      <td>30.1</td>\n",
       "      <td>22.8</td>\n",
       "      <td>52.2</td>\n",
       "      <td>0</td>\n",
       "      <td>0</td>\n",
       "    </tr>\n",
       "    <tr>\n",
       "      <th>719</th>\n",
       "      <td>82</td>\n",
       "      <td>19</td>\n",
       "      <td>54</td>\n",
       "      <td>47</td>\n",
       "      <td>0.287</td>\n",
       "      <td>18</td>\n",
       "      <td>19</td>\n",
       "      <td>179</td>\n",
       "      <td>292</td>\n",
       "      <td>2.18</td>\n",
       "      <td>3.56</td>\n",
       "      <td>13.9</td>\n",
       "      <td>82.4</td>\n",
       "      <td>10.7</td>\n",
       "      <td>85.3</td>\n",
       "      <td>26.0</td>\n",
       "      <td>32.1</td>\n",
       "      <td>47.1</td>\n",
       "      <td>0</td>\n",
       "      <td>0</td>\n",
       "    </tr>\n",
       "    <tr>\n",
       "      <th>720</th>\n",
       "      <td>82</td>\n",
       "      <td>45</td>\n",
       "      <td>30</td>\n",
       "      <td>97</td>\n",
       "      <td>0.591</td>\n",
       "      <td>39</td>\n",
       "      <td>45</td>\n",
       "      <td>268</td>\n",
       "      <td>231</td>\n",
       "      <td>3.27</td>\n",
       "      <td>2.82</td>\n",
       "      <td>14.4</td>\n",
       "      <td>80.3</td>\n",
       "      <td>12.8</td>\n",
       "      <td>82.5</td>\n",
       "      <td>28.3</td>\n",
       "      <td>28.8</td>\n",
       "      <td>50.0</td>\n",
       "      <td>0</td>\n",
       "      <td>0</td>\n",
       "    </tr>\n",
       "    <tr>\n",
       "      <th>721</th>\n",
       "      <td>82</td>\n",
       "      <td>23</td>\n",
       "      <td>47</td>\n",
       "      <td>58</td>\n",
       "      <td>0.354</td>\n",
       "      <td>23</td>\n",
       "      <td>23</td>\n",
       "      <td>192</td>\n",
       "      <td>258</td>\n",
       "      <td>2.34</td>\n",
       "      <td>3.15</td>\n",
       "      <td>15.9</td>\n",
       "      <td>82.9</td>\n",
       "      <td>13.4</td>\n",
       "      <td>86.7</td>\n",
       "      <td>23.7</td>\n",
       "      <td>29.4</td>\n",
       "      <td>50.2</td>\n",
       "      <td>0</td>\n",
       "      <td>0</td>\n",
       "    </tr>\n",
       "    <tr>\n",
       "      <th>722</th>\n",
       "      <td>82</td>\n",
       "      <td>31</td>\n",
       "      <td>45</td>\n",
       "      <td>68</td>\n",
       "      <td>0.415</td>\n",
       "      <td>29</td>\n",
       "      <td>31</td>\n",
       "      <td>200</td>\n",
       "      <td>218</td>\n",
       "      <td>2.44</td>\n",
       "      <td>2.66</td>\n",
       "      <td>17.3</td>\n",
       "      <td>84.4</td>\n",
       "      <td>15.0</td>\n",
       "      <td>86.7</td>\n",
       "      <td>29.0</td>\n",
       "      <td>26.1</td>\n",
       "      <td>53.4</td>\n",
       "      <td>0</td>\n",
       "      <td>0</td>\n",
       "    </tr>\n",
       "  </tbody>\n",
       "</table>\n",
       "<p>723 rows × 20 columns</p>\n",
       "</div>"
      ],
      "text/plain": [
       "     GP   W   L    P     P%  RW  ROW   GF   GA  GF/GP  GA/GP   PP%   PK%  \\\n",
       "0    82  23  47   58  0.354  13   20  206  335   2.51   4.09  15.7  72.1   \n",
       "1    82  28  40   70  0.427  20   25  225  295   2.74   3.60  18.9  74.6   \n",
       "2    82  65  12  135  0.823  54   61  301  174   3.67   2.12  22.2  87.3   \n",
       "3    82  42  33   91  0.555  30   39  293  297   3.57   3.62  23.4  73.0   \n",
       "4    82  38  27   93  0.567  31   36  258  247   3.15   3.01  19.8  82.6   \n",
       "..   ..  ..  ..  ...    ...  ..  ...  ...  ...    ...    ...   ...   ...   \n",
       "718  82  37  32   87  0.530  36   37  237  209   2.89   2.55  20.3  87.9   \n",
       "719  82  19  54   47  0.287  18   19  179  292   2.18   3.56  13.9  82.4   \n",
       "720  82  45  30   97  0.591  39   45  268  231   3.27   2.82  14.4  80.3   \n",
       "721  82  23  47   58  0.354  23   23  192  258   2.34   3.15  15.9  82.9   \n",
       "722  82  31  45   68  0.415  29   31  200  218   2.44   2.66  17.3  84.4   \n",
       "\n",
       "     Net PP%  Net PK%  Shots/GP  SA/GP  FOW%  Stanley Cup  Presidents Cup  \n",
       "0       12.7     72.5      28.4   39.1  46.7            0               0  \n",
       "1       16.4     76.2      25.8   35.0  45.9            0               0  \n",
       "2       19.4     90.1      33.0   29.8  54.5            0               1  \n",
       "3       20.8     77.0      32.5   33.0  45.1            0               0  \n",
       "4       17.5     85.6      36.0   27.3  50.4            0               0  \n",
       "..       ...      ...       ...    ...   ...          ...             ...  \n",
       "718     18.9     89.7      30.1   22.8  52.2            0               0  \n",
       "719     10.7     85.3      26.0   32.1  47.1            0               0  \n",
       "720     12.8     82.5      28.3   28.8  50.0            0               0  \n",
       "721     13.4     86.7      23.7   29.4  50.2            0               0  \n",
       "722     15.0     86.7      29.0   26.1  53.4            0               0  \n",
       "\n",
       "[723 rows x 20 columns]"
      ]
     },
     "execution_count": 2,
     "metadata": {},
     "output_type": "execute_result"
    }
   ],
   "source": [
    "nhl = pd.read_csv('Stanley Cup Data - project_dataset.csv')\n",
    "nhl = nhl.drop(columns = ['Team'])\n",
    "nhl = nhl.drop(columns = ['Season Start'])\n",
    "nhl = nhl.drop(columns = ['Season End'])\n",
    "nhl = nhl.drop(columns = ['T'])\n",
    "nhl = nhl.drop(columns = ['OT'])\n",
    "nhl = nhl.drop(columns = ['S/O Win'])\n",
    "\n",
    "\n",
    "nhl"
   ]
  },
  {
   "cell_type": "code",
   "execution_count": 3,
   "id": "979d3e3b",
   "metadata": {},
   "outputs": [],
   "source": [
    "#create separate dataframes for labels\n",
    "stanley = nhl['Stanley Cup']\n",
    "\n",
    "president = nhl['Presidents Cup']\n"
   ]
  },
  {
   "cell_type": "code",
   "execution_count": 4,
   "id": "24262162",
   "metadata": {
    "scrolled": true
   },
   "outputs": [
    {
     "data": {
      "text/plain": [
       "0    699\n",
       "1     24\n",
       "Name: Stanley Cup, dtype: int64"
      ]
     },
     "execution_count": 4,
     "metadata": {},
     "output_type": "execute_result"
    }
   ],
   "source": [
    "stanley.value_counts()"
   ]
  },
  {
   "cell_type": "code",
   "execution_count": 5,
   "id": "6699742a",
   "metadata": {},
   "outputs": [
    {
     "data": {
      "text/plain": [
       "0    699\n",
       "1     24\n",
       "Name: Presidents Cup, dtype: int64"
      ]
     },
     "execution_count": 5,
     "metadata": {},
     "output_type": "execute_result"
    }
   ],
   "source": [
    "president.value_counts()"
   ]
  },
  {
   "cell_type": "code",
   "execution_count": 6,
   "id": "7a01d113",
   "metadata": {},
   "outputs": [],
   "source": [
    "#final features dataframe\n",
    "nhl1 = nhl.drop(columns = ['Presidents Cup'])\n",
    "\n",
    "nhl1 = nhl1.drop(columns = ['Stanley Cup'])"
   ]
  },
  {
   "cell_type": "code",
   "execution_count": 7,
   "id": "0c1caa57",
   "metadata": {},
   "outputs": [
    {
     "data": {
      "text/html": [
       "<div>\n",
       "<style scoped>\n",
       "    .dataframe tbody tr th:only-of-type {\n",
       "        vertical-align: middle;\n",
       "    }\n",
       "\n",
       "    .dataframe tbody tr th {\n",
       "        vertical-align: top;\n",
       "    }\n",
       "\n",
       "    .dataframe thead th {\n",
       "        text-align: right;\n",
       "    }\n",
       "</style>\n",
       "<table border=\"1\" class=\"dataframe\">\n",
       "  <thead>\n",
       "    <tr style=\"text-align: right;\">\n",
       "      <th></th>\n",
       "      <th>GP</th>\n",
       "      <th>W</th>\n",
       "      <th>L</th>\n",
       "      <th>P</th>\n",
       "      <th>P%</th>\n",
       "      <th>RW</th>\n",
       "      <th>ROW</th>\n",
       "      <th>GF</th>\n",
       "      <th>GA</th>\n",
       "      <th>GF/GP</th>\n",
       "      <th>GA/GP</th>\n",
       "      <th>PP%</th>\n",
       "      <th>PK%</th>\n",
       "      <th>Net PP%</th>\n",
       "      <th>Net PK%</th>\n",
       "      <th>Shots/GP</th>\n",
       "      <th>SA/GP</th>\n",
       "      <th>FOW%</th>\n",
       "    </tr>\n",
       "  </thead>\n",
       "  <tbody>\n",
       "    <tr>\n",
       "      <th>0</th>\n",
       "      <td>82</td>\n",
       "      <td>23</td>\n",
       "      <td>47</td>\n",
       "      <td>58</td>\n",
       "      <td>0.354</td>\n",
       "      <td>13</td>\n",
       "      <td>20</td>\n",
       "      <td>206</td>\n",
       "      <td>335</td>\n",
       "      <td>2.51</td>\n",
       "      <td>4.09</td>\n",
       "      <td>15.7</td>\n",
       "      <td>72.1</td>\n",
       "      <td>12.7</td>\n",
       "      <td>72.5</td>\n",
       "      <td>28.4</td>\n",
       "      <td>39.1</td>\n",
       "      <td>46.7</td>\n",
       "    </tr>\n",
       "    <tr>\n",
       "      <th>1</th>\n",
       "      <td>82</td>\n",
       "      <td>28</td>\n",
       "      <td>40</td>\n",
       "      <td>70</td>\n",
       "      <td>0.427</td>\n",
       "      <td>20</td>\n",
       "      <td>25</td>\n",
       "      <td>225</td>\n",
       "      <td>295</td>\n",
       "      <td>2.74</td>\n",
       "      <td>3.60</td>\n",
       "      <td>18.9</td>\n",
       "      <td>74.6</td>\n",
       "      <td>16.4</td>\n",
       "      <td>76.2</td>\n",
       "      <td>25.8</td>\n",
       "      <td>35.0</td>\n",
       "      <td>45.9</td>\n",
       "    </tr>\n",
       "    <tr>\n",
       "      <th>2</th>\n",
       "      <td>82</td>\n",
       "      <td>65</td>\n",
       "      <td>12</td>\n",
       "      <td>135</td>\n",
       "      <td>0.823</td>\n",
       "      <td>54</td>\n",
       "      <td>61</td>\n",
       "      <td>301</td>\n",
       "      <td>174</td>\n",
       "      <td>3.67</td>\n",
       "      <td>2.12</td>\n",
       "      <td>22.2</td>\n",
       "      <td>87.3</td>\n",
       "      <td>19.4</td>\n",
       "      <td>90.1</td>\n",
       "      <td>33.0</td>\n",
       "      <td>29.8</td>\n",
       "      <td>54.5</td>\n",
       "    </tr>\n",
       "    <tr>\n",
       "      <th>3</th>\n",
       "      <td>82</td>\n",
       "      <td>42</td>\n",
       "      <td>33</td>\n",
       "      <td>91</td>\n",
       "      <td>0.555</td>\n",
       "      <td>30</td>\n",
       "      <td>39</td>\n",
       "      <td>293</td>\n",
       "      <td>297</td>\n",
       "      <td>3.57</td>\n",
       "      <td>3.62</td>\n",
       "      <td>23.4</td>\n",
       "      <td>73.0</td>\n",
       "      <td>20.8</td>\n",
       "      <td>77.0</td>\n",
       "      <td>32.5</td>\n",
       "      <td>33.0</td>\n",
       "      <td>45.1</td>\n",
       "    </tr>\n",
       "    <tr>\n",
       "      <th>4</th>\n",
       "      <td>82</td>\n",
       "      <td>38</td>\n",
       "      <td>27</td>\n",
       "      <td>93</td>\n",
       "      <td>0.567</td>\n",
       "      <td>31</td>\n",
       "      <td>36</td>\n",
       "      <td>258</td>\n",
       "      <td>247</td>\n",
       "      <td>3.15</td>\n",
       "      <td>3.01</td>\n",
       "      <td>19.8</td>\n",
       "      <td>82.6</td>\n",
       "      <td>17.5</td>\n",
       "      <td>85.6</td>\n",
       "      <td>36.0</td>\n",
       "      <td>27.3</td>\n",
       "      <td>50.4</td>\n",
       "    </tr>\n",
       "    <tr>\n",
       "      <th>...</th>\n",
       "      <td>...</td>\n",
       "      <td>...</td>\n",
       "      <td>...</td>\n",
       "      <td>...</td>\n",
       "      <td>...</td>\n",
       "      <td>...</td>\n",
       "      <td>...</td>\n",
       "      <td>...</td>\n",
       "      <td>...</td>\n",
       "      <td>...</td>\n",
       "      <td>...</td>\n",
       "      <td>...</td>\n",
       "      <td>...</td>\n",
       "      <td>...</td>\n",
       "      <td>...</td>\n",
       "      <td>...</td>\n",
       "      <td>...</td>\n",
       "      <td>...</td>\n",
       "    </tr>\n",
       "    <tr>\n",
       "      <th>718</th>\n",
       "      <td>82</td>\n",
       "      <td>37</td>\n",
       "      <td>32</td>\n",
       "      <td>87</td>\n",
       "      <td>0.530</td>\n",
       "      <td>36</td>\n",
       "      <td>37</td>\n",
       "      <td>237</td>\n",
       "      <td>209</td>\n",
       "      <td>2.89</td>\n",
       "      <td>2.55</td>\n",
       "      <td>20.3</td>\n",
       "      <td>87.9</td>\n",
       "      <td>18.9</td>\n",
       "      <td>89.7</td>\n",
       "      <td>30.1</td>\n",
       "      <td>22.8</td>\n",
       "      <td>52.2</td>\n",
       "    </tr>\n",
       "    <tr>\n",
       "      <th>719</th>\n",
       "      <td>82</td>\n",
       "      <td>19</td>\n",
       "      <td>54</td>\n",
       "      <td>47</td>\n",
       "      <td>0.287</td>\n",
       "      <td>18</td>\n",
       "      <td>19</td>\n",
       "      <td>179</td>\n",
       "      <td>292</td>\n",
       "      <td>2.18</td>\n",
       "      <td>3.56</td>\n",
       "      <td>13.9</td>\n",
       "      <td>82.4</td>\n",
       "      <td>10.7</td>\n",
       "      <td>85.3</td>\n",
       "      <td>26.0</td>\n",
       "      <td>32.1</td>\n",
       "      <td>47.1</td>\n",
       "    </tr>\n",
       "    <tr>\n",
       "      <th>720</th>\n",
       "      <td>82</td>\n",
       "      <td>45</td>\n",
       "      <td>30</td>\n",
       "      <td>97</td>\n",
       "      <td>0.591</td>\n",
       "      <td>39</td>\n",
       "      <td>45</td>\n",
       "      <td>268</td>\n",
       "      <td>231</td>\n",
       "      <td>3.27</td>\n",
       "      <td>2.82</td>\n",
       "      <td>14.4</td>\n",
       "      <td>80.3</td>\n",
       "      <td>12.8</td>\n",
       "      <td>82.5</td>\n",
       "      <td>28.3</td>\n",
       "      <td>28.8</td>\n",
       "      <td>50.0</td>\n",
       "    </tr>\n",
       "    <tr>\n",
       "      <th>721</th>\n",
       "      <td>82</td>\n",
       "      <td>23</td>\n",
       "      <td>47</td>\n",
       "      <td>58</td>\n",
       "      <td>0.354</td>\n",
       "      <td>23</td>\n",
       "      <td>23</td>\n",
       "      <td>192</td>\n",
       "      <td>258</td>\n",
       "      <td>2.34</td>\n",
       "      <td>3.15</td>\n",
       "      <td>15.9</td>\n",
       "      <td>82.9</td>\n",
       "      <td>13.4</td>\n",
       "      <td>86.7</td>\n",
       "      <td>23.7</td>\n",
       "      <td>29.4</td>\n",
       "      <td>50.2</td>\n",
       "    </tr>\n",
       "    <tr>\n",
       "      <th>722</th>\n",
       "      <td>82</td>\n",
       "      <td>31</td>\n",
       "      <td>45</td>\n",
       "      <td>68</td>\n",
       "      <td>0.415</td>\n",
       "      <td>29</td>\n",
       "      <td>31</td>\n",
       "      <td>200</td>\n",
       "      <td>218</td>\n",
       "      <td>2.44</td>\n",
       "      <td>2.66</td>\n",
       "      <td>17.3</td>\n",
       "      <td>84.4</td>\n",
       "      <td>15.0</td>\n",
       "      <td>86.7</td>\n",
       "      <td>29.0</td>\n",
       "      <td>26.1</td>\n",
       "      <td>53.4</td>\n",
       "    </tr>\n",
       "  </tbody>\n",
       "</table>\n",
       "<p>723 rows × 18 columns</p>\n",
       "</div>"
      ],
      "text/plain": [
       "     GP   W   L    P     P%  RW  ROW   GF   GA  GF/GP  GA/GP   PP%   PK%  \\\n",
       "0    82  23  47   58  0.354  13   20  206  335   2.51   4.09  15.7  72.1   \n",
       "1    82  28  40   70  0.427  20   25  225  295   2.74   3.60  18.9  74.6   \n",
       "2    82  65  12  135  0.823  54   61  301  174   3.67   2.12  22.2  87.3   \n",
       "3    82  42  33   91  0.555  30   39  293  297   3.57   3.62  23.4  73.0   \n",
       "4    82  38  27   93  0.567  31   36  258  247   3.15   3.01  19.8  82.6   \n",
       "..   ..  ..  ..  ...    ...  ..  ...  ...  ...    ...    ...   ...   ...   \n",
       "718  82  37  32   87  0.530  36   37  237  209   2.89   2.55  20.3  87.9   \n",
       "719  82  19  54   47  0.287  18   19  179  292   2.18   3.56  13.9  82.4   \n",
       "720  82  45  30   97  0.591  39   45  268  231   3.27   2.82  14.4  80.3   \n",
       "721  82  23  47   58  0.354  23   23  192  258   2.34   3.15  15.9  82.9   \n",
       "722  82  31  45   68  0.415  29   31  200  218   2.44   2.66  17.3  84.4   \n",
       "\n",
       "     Net PP%  Net PK%  Shots/GP  SA/GP  FOW%  \n",
       "0       12.7     72.5      28.4   39.1  46.7  \n",
       "1       16.4     76.2      25.8   35.0  45.9  \n",
       "2       19.4     90.1      33.0   29.8  54.5  \n",
       "3       20.8     77.0      32.5   33.0  45.1  \n",
       "4       17.5     85.6      36.0   27.3  50.4  \n",
       "..       ...      ...       ...    ...   ...  \n",
       "718     18.9     89.7      30.1   22.8  52.2  \n",
       "719     10.7     85.3      26.0   32.1  47.1  \n",
       "720     12.8     82.5      28.3   28.8  50.0  \n",
       "721     13.4     86.7      23.7   29.4  50.2  \n",
       "722     15.0     86.7      29.0   26.1  53.4  \n",
       "\n",
       "[723 rows x 18 columns]"
      ]
     },
     "execution_count": 7,
     "metadata": {},
     "output_type": "execute_result"
    }
   ],
   "source": [
    "nhl1"
   ]
  },
  {
   "cell_type": "code",
   "execution_count": 8,
   "id": "28e13dc5",
   "metadata": {},
   "outputs": [],
   "source": [
    "#split the data\n",
    "X_train, X_test, stanley_train, stanley_test = train_test_split(nhl1, stanley, test_size=0.25, random_state = 77)"
   ]
  },
  {
   "cell_type": "code",
   "execution_count": 9,
   "id": "36c4231d",
   "metadata": {},
   "outputs": [
    {
     "name": "stdout",
     "output_type": "stream",
     "text": [
      "{'C': 0.1, 'gamma': 0.0001, 'kernel': 'linear'}\n"
     ]
    }
   ],
   "source": [
    "#perform a grid search to find the best hyperparameters\n",
    "param_grid = {'C': [0.1, 1.0, 10.0, 100.0, 1000.0, 1e4],\n",
    "              'gamma': [1e-4, 1e-3, 0.01, 0.1, 1.0, 10.0],\n",
    "              'kernel': ['linear', 'rbf']}\n",
    "\n",
    "svc_model = SVC()\n",
    "\n",
    "grid_search = GridSearchCV(svc_model, param_grid) \n",
    "\n",
    "grid_search.fit(X_train, stanley_train)\n",
    "\n",
    "print(grid_search.best_params_)\n"
   ]
  },
  {
   "cell_type": "code",
   "execution_count": 17,
   "id": "c9060064",
   "metadata": {},
   "outputs": [
    {
     "data": {
      "text/html": [
       "<style>#sk-container-id-2 {color: black;}#sk-container-id-2 pre{padding: 0;}#sk-container-id-2 div.sk-toggleable {background-color: white;}#sk-container-id-2 label.sk-toggleable__label {cursor: pointer;display: block;width: 100%;margin-bottom: 0;padding: 0.3em;box-sizing: border-box;text-align: center;}#sk-container-id-2 label.sk-toggleable__label-arrow:before {content: \"▸\";float: left;margin-right: 0.25em;color: #696969;}#sk-container-id-2 label.sk-toggleable__label-arrow:hover:before {color: black;}#sk-container-id-2 div.sk-estimator:hover label.sk-toggleable__label-arrow:before {color: black;}#sk-container-id-2 div.sk-toggleable__content {max-height: 0;max-width: 0;overflow: hidden;text-align: left;background-color: #f0f8ff;}#sk-container-id-2 div.sk-toggleable__content pre {margin: 0.2em;color: black;border-radius: 0.25em;background-color: #f0f8ff;}#sk-container-id-2 input.sk-toggleable__control:checked~div.sk-toggleable__content {max-height: 200px;max-width: 100%;overflow: auto;}#sk-container-id-2 input.sk-toggleable__control:checked~label.sk-toggleable__label-arrow:before {content: \"▾\";}#sk-container-id-2 div.sk-estimator input.sk-toggleable__control:checked~label.sk-toggleable__label {background-color: #d4ebff;}#sk-container-id-2 div.sk-label input.sk-toggleable__control:checked~label.sk-toggleable__label {background-color: #d4ebff;}#sk-container-id-2 input.sk-hidden--visually {border: 0;clip: rect(1px 1px 1px 1px);clip: rect(1px, 1px, 1px, 1px);height: 1px;margin: -1px;overflow: hidden;padding: 0;position: absolute;width: 1px;}#sk-container-id-2 div.sk-estimator {font-family: monospace;background-color: #f0f8ff;border: 1px dotted black;border-radius: 0.25em;box-sizing: border-box;margin-bottom: 0.5em;}#sk-container-id-2 div.sk-estimator:hover {background-color: #d4ebff;}#sk-container-id-2 div.sk-parallel-item::after {content: \"\";width: 100%;border-bottom: 1px solid gray;flex-grow: 1;}#sk-container-id-2 div.sk-label:hover label.sk-toggleable__label {background-color: #d4ebff;}#sk-container-id-2 div.sk-serial::before {content: \"\";position: absolute;border-left: 1px solid gray;box-sizing: border-box;top: 0;bottom: 0;left: 50%;z-index: 0;}#sk-container-id-2 div.sk-serial {display: flex;flex-direction: column;align-items: center;background-color: white;padding-right: 0.2em;padding-left: 0.2em;position: relative;}#sk-container-id-2 div.sk-item {position: relative;z-index: 1;}#sk-container-id-2 div.sk-parallel {display: flex;align-items: stretch;justify-content: center;background-color: white;position: relative;}#sk-container-id-2 div.sk-item::before, #sk-container-id-2 div.sk-parallel-item::before {content: \"\";position: absolute;border-left: 1px solid gray;box-sizing: border-box;top: 0;bottom: 0;left: 50%;z-index: -1;}#sk-container-id-2 div.sk-parallel-item {display: flex;flex-direction: column;z-index: 1;position: relative;background-color: white;}#sk-container-id-2 div.sk-parallel-item:first-child::after {align-self: flex-end;width: 50%;}#sk-container-id-2 div.sk-parallel-item:last-child::after {align-self: flex-start;width: 50%;}#sk-container-id-2 div.sk-parallel-item:only-child::after {width: 0;}#sk-container-id-2 div.sk-dashed-wrapped {border: 1px dashed gray;margin: 0 0.4em 0.5em 0.4em;box-sizing: border-box;padding-bottom: 0.4em;background-color: white;}#sk-container-id-2 div.sk-label label {font-family: monospace;font-weight: bold;display: inline-block;line-height: 1.2em;}#sk-container-id-2 div.sk-label-container {text-align: center;}#sk-container-id-2 div.sk-container {/* jupyter's `normalize.less` sets `[hidden] { display: none; }` but bootstrap.min.css set `[hidden] { display: none !important; }` so we also need the `!important` here to be able to override the default hidden behavior on the sphinx rendered scikit-learn.org. See: https://github.com/scikit-learn/scikit-learn/issues/21755 */display: inline-block !important;position: relative;}#sk-container-id-2 div.sk-text-repr-fallback {display: none;}</style><div id=\"sk-container-id-2\" class=\"sk-top-container\"><div class=\"sk-text-repr-fallback\"><pre>SVC(C=0.1, gamma=0.0001, kernel=&#x27;linear&#x27;)</pre><b>In a Jupyter environment, please rerun this cell to show the HTML representation or trust the notebook. <br />On GitHub, the HTML representation is unable to render, please try loading this page with nbviewer.org.</b></div><div class=\"sk-container\" hidden><div class=\"sk-item\"><div class=\"sk-estimator sk-toggleable\"><input class=\"sk-toggleable__control sk-hidden--visually\" id=\"sk-estimator-id-2\" type=\"checkbox\" checked><label for=\"sk-estimator-id-2\" class=\"sk-toggleable__label sk-toggleable__label-arrow\">SVC</label><div class=\"sk-toggleable__content\"><pre>SVC(C=0.1, gamma=0.0001, kernel=&#x27;linear&#x27;)</pre></div></div></div></div></div>"
      ],
      "text/plain": [
       "SVC(C=0.1, gamma=0.0001, kernel='linear')"
      ]
     },
     "execution_count": 17,
     "metadata": {},
     "output_type": "execute_result"
    }
   ],
   "source": [
    "#train the model\n",
    "stanley_svm = SVC(kernel = 'linear', C = 0.1, gamma = 0.0001)\n",
    "stanley_svm.fit(X_train, stanley_train)"
   ]
  },
  {
   "cell_type": "code",
   "execution_count": 18,
   "id": "63d6e415",
   "metadata": {},
   "outputs": [],
   "source": [
    "#predictions\n",
    "stanley_pred = stanley_svm.predict(X_test)\n"
   ]
  },
  {
   "cell_type": "code",
   "execution_count": 30,
   "id": "95b821c4",
   "metadata": {},
   "outputs": [
    {
     "data": {
      "text/plain": [
       "0.9502762430939227"
      ]
     },
     "execution_count": 30,
     "metadata": {},
     "output_type": "execute_result"
    }
   ],
   "source": [
    "accuracy = accuracy_score(stanley_test, stanley_pred)\n",
    "\n",
    "# Classification Report\n",
    "#report = classification_report(stanley_test, stanley_pred)\n",
    "accuracy"
   ]
  },
  {
   "cell_type": "markdown",
   "id": "e6b514cd",
   "metadata": {},
   "source": [
    "Chat GPT helped me create these confusion matrixes using seaborn. Accessed from openai.com 12/1/2023. Prompt: Help me to create visuals for my SVM findings."
   ]
  },
  {
   "cell_type": "code",
   "execution_count": 27,
   "id": "327e1137",
   "metadata": {},
   "outputs": [
    {
     "data": {
      "image/png": "[encoded data removed]",
      "text/plain": [
       "<Figure size 432x288 with 2 Axes>"
      ]
     },
     "metadata": {
      "needs_background": "light"
     },
     "output_type": "display_data"
    }
   ],
   "source": [
    "\n",
    "s_conf_matrix = confusion_matrix(stanley_test, stanley_pred)\n",
    "\n",
    "# Plot the confusion matrix\n",
    "sns.heatmap(s_conf_matrix, annot=True, fmt=\"d\", cmap=\"Blues\")\n",
    "plt.xlabel('Predicted')\n",
    "plt.ylabel('Actual')\n",
    "plt.title('Stanley Matrix')\n",
    "plt.show()"
   ]
  },
  {
   "cell_type": "code",
   "execution_count": 5,
   "id": "69bae915",
   "metadata": {},
   "outputs": [],
   "source": [
    "#repeat the process for president's cup\n",
    "#split the data\n",
    "X_train, X_test, president_train, president_test = train_test_split(nhl1, president, test_size=0.25, random_state = 77)"
   ]
  },
  {
   "cell_type": "code",
   "execution_count": 6,
   "id": "03fe8917",
   "metadata": {},
   "outputs": [
    {
     "name": "stdout",
     "output_type": "stream",
     "text": [
      "{'C': 0.1, 'gamma': 0.0001, 'kernel': 'linear'}\n"
     ]
    }
   ],
   "source": [
    "#perform a grid search to find the best hyperparameters\n",
    "param_grid = {'C': [0.1, 1.0, 10.0, 100.0, 1000.0, 1e4],\n",
    "              'gamma': [1e-4, 1e-3, 0.01, 0.1, 1.0, 10.0],\n",
    "              'kernel': ['linear', 'rbf']}\n",
    "\n",
    "svc_model = SVC()\n",
    "\n",
    "grid_search = GridSearchCV(svc_model, param_grid) \n",
    "\n",
    "grid_search.fit(X_train, president_train)\n",
    "\n",
    "print(grid_search.best_params_)\n"
   ]
  },
  {
   "cell_type": "code",
   "execution_count": 8,
   "id": "c0671fee",
   "metadata": {},
   "outputs": [
    {
     "data": {
      "text/html": [
       "<style>#sk-container-id-1 {color: black;}#sk-container-id-1 pre{padding: 0;}#sk-container-id-1 div.sk-toggleable {background-color: white;}#sk-container-id-1 label.sk-toggleable__label {cursor: pointer;display: block;width: 100%;margin-bottom: 0;padding: 0.3em;box-sizing: border-box;text-align: center;}#sk-container-id-1 label.sk-toggleable__label-arrow:before {content: \"▸\";float: left;margin-right: 0.25em;color: #696969;}#sk-container-id-1 label.sk-toggleable__label-arrow:hover:before {color: black;}#sk-container-id-1 div.sk-estimator:hover label.sk-toggleable__label-arrow:before {color: black;}#sk-container-id-1 div.sk-toggleable__content {max-height: 0;max-width: 0;overflow: hidden;text-align: left;background-color: #f0f8ff;}#sk-container-id-1 div.sk-toggleable__content pre {margin: 0.2em;color: black;border-radius: 0.25em;background-color: #f0f8ff;}#sk-container-id-1 input.sk-toggleable__control:checked~div.sk-toggleable__content {max-height: 200px;max-width: 100%;overflow: auto;}#sk-container-id-1 input.sk-toggleable__control:checked~label.sk-toggleable__label-arrow:before {content: \"▾\";}#sk-container-id-1 div.sk-estimator input.sk-toggleable__control:checked~label.sk-toggleable__label {background-color: #d4ebff;}#sk-container-id-1 div.sk-label input.sk-toggleable__control:checked~label.sk-toggleable__label {background-color: #d4ebff;}#sk-container-id-1 input.sk-hidden--visually {border: 0;clip: rect(1px 1px 1px 1px);clip: rect(1px, 1px, 1px, 1px);height: 1px;margin: -1px;overflow: hidden;padding: 0;position: absolute;width: 1px;}#sk-container-id-1 div.sk-estimator {font-family: monospace;background-color: #f0f8ff;border: 1px dotted black;border-radius: 0.25em;box-sizing: border-box;margin-bottom: 0.5em;}#sk-container-id-1 div.sk-estimator:hover {background-color: #d4ebff;}#sk-container-id-1 div.sk-parallel-item::after {content: \"\";width: 100%;border-bottom: 1px solid gray;flex-grow: 1;}#sk-container-id-1 div.sk-label:hover label.sk-toggleable__label {background-color: #d4ebff;}#sk-container-id-1 div.sk-serial::before {content: \"\";position: absolute;border-left: 1px solid gray;box-sizing: border-box;top: 0;bottom: 0;left: 50%;z-index: 0;}#sk-container-id-1 div.sk-serial {display: flex;flex-direction: column;align-items: center;background-color: white;padding-right: 0.2em;padding-left: 0.2em;position: relative;}#sk-container-id-1 div.sk-item {position: relative;z-index: 1;}#sk-container-id-1 div.sk-parallel {display: flex;align-items: stretch;justify-content: center;background-color: white;position: relative;}#sk-container-id-1 div.sk-item::before, #sk-container-id-1 div.sk-parallel-item::before {content: \"\";position: absolute;border-left: 1px solid gray;box-sizing: border-box;top: 0;bottom: 0;left: 50%;z-index: -1;}#sk-container-id-1 div.sk-parallel-item {display: flex;flex-direction: column;z-index: 1;position: relative;background-color: white;}#sk-container-id-1 div.sk-parallel-item:first-child::after {align-self: flex-end;width: 50%;}#sk-container-id-1 div.sk-parallel-item:last-child::after {align-self: flex-start;width: 50%;}#sk-container-id-1 div.sk-parallel-item:only-child::after {width: 0;}#sk-container-id-1 div.sk-dashed-wrapped {border: 1px dashed gray;margin: 0 0.4em 0.5em 0.4em;box-sizing: border-box;padding-bottom: 0.4em;background-color: white;}#sk-container-id-1 div.sk-label label {font-family: monospace;font-weight: bold;display: inline-block;line-height: 1.2em;}#sk-container-id-1 div.sk-label-container {text-align: center;}#sk-container-id-1 div.sk-container {/* jupyter's `normalize.less` sets `[hidden] { display: none; }` but bootstrap.min.css set `[hidden] { display: none !important; }` so we also need the `!important` here to be able to override the default hidden behavior on the sphinx rendered scikit-learn.org. See: https://github.com/scikit-learn/scikit-learn/issues/21755 */display: inline-block !important;position: relative;}#sk-container-id-1 div.sk-text-repr-fallback {display: none;}</style><div id=\"sk-container-id-1\" class=\"sk-top-container\"><div class=\"sk-text-repr-fallback\"><pre>SVC(C=0.1, gamma=0.0001, kernel=&#x27;linear&#x27;)</pre><b>In a Jupyter environment, please rerun this cell to show the HTML representation or trust the notebook. <br />On GitHub, the HTML representation is unable to render, please try loading this page with nbviewer.org.</b></div><div class=\"sk-container\" hidden><div class=\"sk-item\"><div class=\"sk-estimator sk-toggleable\"><input class=\"sk-toggleable__control sk-hidden--visually\" id=\"sk-estimator-id-1\" type=\"checkbox\" checked><label for=\"sk-estimator-id-1\" class=\"sk-toggleable__label sk-toggleable__label-arrow\">SVC</label><div class=\"sk-toggleable__content\"><pre>SVC(C=0.1, gamma=0.0001, kernel=&#x27;linear&#x27;)</pre></div></div></div></div></div>"
      ],
      "text/plain": [
       "SVC(C=0.1, gamma=0.0001, kernel='linear')"
      ]
     },
     "execution_count": 8,
     "metadata": {},
     "output_type": "execute_result"
    }
   ],
   "source": [
    "#train the model\n",
    "president_svm = SVC(kernel = 'linear', C = 0.1, gamma = 0.0001)\n",
    "president_svm.fit(X_train, president_train)"
   ]
  },
  {
   "cell_type": "code",
   "execution_count": 10,
   "id": "1c10676e",
   "metadata": {},
   "outputs": [],
   "source": [
    "#predictions\n",
    "president_pred = president_svm.predict(X_test)"
   ]
  },
  {
   "cell_type": "code",
   "execution_count": 23,
   "id": "a5d78608",
   "metadata": {},
   "outputs": [],
   "source": [
    "accuracy = accuracy_score(president_test, president_pred)\n",
    "\n",
    "# Classification Report\n",
    "report = classification_report(president_test, president_pred)\n"
   ]
  },
  {
   "cell_type": "code",
   "execution_count": 24,
   "id": "aa29bc20",
   "metadata": {
    "scrolled": true
   },
   "outputs": [
    {
     "data": {
      "text/plain": [
       "0.9834254143646409"
      ]
     },
     "execution_count": 24,
     "metadata": {},
     "output_type": "execute_result"
    }
   ],
   "source": [
    "accuracy"
   ]
  },
  {
   "cell_type": "code",
   "execution_count": 25,
   "id": "edc6f4b8",
   "metadata": {},
   "outputs": [
    {
     "data": {
      "text/plain": [
       "'              precision    recall  f1-score   support\\n\\n           0       1.00      0.98      0.99       177\\n           1       0.57      1.00      0.73         4\\n\\n    accuracy                           0.98       181\\n   macro avg       0.79      0.99      0.86       181\\nweighted avg       0.99      0.98      0.99       181\\n'"
      ]
     },
     "execution_count": 25,
     "metadata": {},
     "output_type": "execute_result"
    }
   ],
   "source": [
    "report"
   ]
  },
  {
   "cell_type": "code",
   "execution_count": 26,
   "id": "342a5593",
   "metadata": {},
   "outputs": [
    {
     "data": {
      "image/png": "[encoded data removed]",
      "text/plain": [
       "<Figure size 432x288 with 2 Axes>"
      ]
     },
     "metadata": {
      "needs_background": "light"
     },
     "output_type": "display_data"
    }
   ],
   "source": [
    "p_conf_matrix = confusion_matrix(president_test, president_pred)\n",
    "\n",
    "# Plot the confusion matrix\n",
    "sns.heatmap(p_conf_matrix, annot=True, fmt=\"d\", cmap=\"Blues\")\n",
    "plt.xlabel('Predicted')\n",
    "plt.ylabel('Actual')\n",
    "plt.title('Presidents Matrix')\n",
    "plt.show()"
   ]
  }
 ],
 "metadata": {
  "kernelspec": {
   "display_name": "Python 3.8",
   "language": "python",
   "name": "python3"
  },
  "language_info": {
   "codemirror_mode": {
    "name": "ipython",
    "version": 3
   },
   "file_extension": ".py",
   "mimetype": "text/x-python",
   "name": "python",
   "nbconvert_exporter": "python",
   "pygments_lexer": "ipython3",
   "version": "3.8.8"
  }
 },
 "nbformat": 4,
 "nbformat_minor": 5
}
